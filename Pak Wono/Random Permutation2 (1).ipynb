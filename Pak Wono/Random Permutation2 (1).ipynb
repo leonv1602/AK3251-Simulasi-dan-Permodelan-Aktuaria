{
 "cells": [
  {
   "cell_type": "markdown",
   "metadata": {},
   "source": [
    "## Random permutation\n",
    "\n",
    "* step 1: Let P1, P2, . . . , Pn be any permutation of 0, 1, 2, . . . , n-1 (e.g., we can\n",
    "choose Pj = j, j = 0, 1, . . . , n-1).\n",
    "* step 2: Set k = n-1.\n",
    "* step 3: Generate a random number U and let I = Int(kU).\n",
    "* step 4: Interchange the values of PI and Pk .\n",
    "* step 5: Let k = k − 1 and if k > 1 go to Step 3.\n",
    "* step 6: P1, . . . , Pn is the desired random permutation."
   ]
  },
  {
   "cell_type": "code",
   "execution_count": 2,
   "metadata": {},
   "outputs": [
    {
     "name": "stdout",
     "output_type": "stream",
     "text": [
      "Aslinya: [0 1 2 3 4 5 6 7 8 9]\n",
      "Ini permutasi acaknya: [6 2 3 5 1 8 4 0 9 7]\n"
     ]
    }
   ],
   "source": [
    "from numpy import *\n",
    "from numpy.random import *\n",
    "set_printoptions(formatter = {'float' : '{:4.3f}'.format})\n",
    "\n",
    "seed(20201226)\n",
    "def P(n):\n",
    "    p = arange(n)\n",
    "    k = n-1   #maksimum nilai k yang diperkenankan sebagai indeks di Python\n",
    "    while k > 0:\n",
    "        l = int(k*rand())   #Disini kalau ditambah 1, nilai l tidak pernah 0, suku pertama tidak pernah berganti.\n",
    "        p[l], p[k] = p[k], p[l]\n",
    "        k -= 1\n",
    "    return p\n",
    "\n",
    "n = 10\n",
    "print('Aslinya:', arange(n))\n",
    "print('Ini permutasi acaknya:', P(n))"
   ]
  },
  {
   "cell_type": "markdown",
   "metadata": {},
   "source": [
    "> **Penggunaan fungsi permutasi P(n)**\n",
    ">\n",
    "> P(n) berperanan sbagai pengacak indeks di Python\n",
    ">\n",
    "> Misal dipunyai populasi X berisi N elemen, akan diambil n elemen dari X secara acak dengan n < N"
   ]
  },
  {
   "cell_type": "code",
   "execution_count": 3,
   "metadata": {},
   "outputs": [
    {
     "name": "stdout",
     "output_type": "stream",
     "text": [
      "Populasi X aslinya: [0.696 -0.086 -0.467 0.246 0.585 1.269 -1.018 -2.363 -1.213 0.869]\n",
      "Indeks populasi diacak: [2 3 6 0 9 7 8 4 5 1]\n",
      "Populasi X diacak:  [-1.018 0.246 0.585 1.269 0.869 0.696 -0.467 -1.213 -0.086 -2.363]\n",
      "Sampel sebesar 5 dari X yang terambil secara acak: [-1.018 0.246 0.585 1.269 0.869]\n"
     ]
    }
   ],
   "source": [
    "N = 10\n",
    "n = 5\n",
    "\n",
    "X  = randn(N)  #Ini populasi X aslinya\n",
    "Pacak = P(N)   #Indeks populasi diacak\n",
    "Xacak = X[P(N)]   #Populasi X setelah diacak\n",
    "Xsampel = Xacak[0:n]    #Diambil n observasi pertama dari populasi yang sudah diacak\n",
    "\n",
    "print('Populasi X aslinya:', X)\n",
    "print(\"Indeks populasi diacak:\", Pacak)\n",
    "print('Populasi X diacak: ', Xacak)\n",
    "print(f'Sampel sebesar {n} dari X yang terambil secara acak: {Xsampel}')"
   ]
  },
  {
   "cell_type": "code",
   "execution_count": null,
   "metadata": {},
   "outputs": [],
   "source": []
  },
  {
   "cell_type": "code",
   "execution_count": 4,
   "metadata": {},
   "outputs": [
    {
     "name": "stdout",
     "output_type": "stream",
     "text": [
      "Populasi X diacak:  [-1.018 -0.467 0.246 -1.213 0.585 -0.086 0.869 1.269 0.696 -2.363]\n",
      "Sampel sebesar 5 dari X yang terambil secara acak: [-1.018 -0.467 0.246 -1.213 0.585]\n"
     ]
    }
   ],
   "source": [
    "#Di Python sudah ada shuffle() untuk mengacak X\n",
    "\n",
    "shuffle(X)   #Populasi X diacak\n",
    "print('Populasi X diacak: ', X)\n",
    "print(f'Sampel sebesar {n} dari X yang terambil secara acak: {X[0:n]}')"
   ]
  },
  {
   "cell_type": "code",
   "execution_count": null,
   "metadata": {},
   "outputs": [],
   "source": []
  }
 ],
 "metadata": {
  "kernelspec": {
   "display_name": "Python 3",
   "language": "python",
   "name": "python3"
  },
  "language_info": {
   "codemirror_mode": {
    "name": "ipython",
    "version": 3
   },
   "file_extension": ".py",
   "mimetype": "text/x-python",
   "name": "python",
   "nbconvert_exporter": "python",
   "pygments_lexer": "ipython3",
   "version": "3.8.5"
  }
 },
 "nbformat": 4,
 "nbformat_minor": 4
}
