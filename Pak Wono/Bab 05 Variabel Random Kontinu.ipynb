{
 "cells": [
  {
   "cell_type": "markdown",
   "metadata": {},
   "source": [
    "Pada bagian ini kita akan mempelajari pembentukan variabel random kontinu dengan menggunakan data dari variabel random kontinu $[0,1]$. \n",
    "Dasar untuk memahami ini adalah sifat dasar berikut"
   ]
  },
  {
   "cell_type": "markdown",
   "metadata": {},
   "source": [
    "Misalkan $U$ adalah variabel random uniform di $(0,1)$. Selanjutnya, jika $F$ adalah fungsi distribusi (artinya untuk $x\\rightarrow -\\infty$, maka nilai $F(x)\\rightarrow 0$, dan sedangkan $x \\rightarrow \\infty$, maka nilai $F(x)\\rightarrow 1$, dan $F$ monoton naik), maka fungsi distribusi dari variabel \n",
    "$$\n",
    "X=F^{-1}(U)\n",
    "$$\n",
    "mempunyai distribusi $F$."
   ]
  },
  {
   "cell_type": "markdown",
   "metadata": {},
   "source": [
    "Untuk memahami hal tersebut, kita akan menghitung fungsi distribusi$F_X$ dari $X$ tersebut. Untuk itu\n",
    "\\begin{align}\n",
    "F_X(x) &=P\\{X\\leq x \\} \\cr\n",
    "  &= P\\{F^{-1}(U) \\leq x \\} \n",
    "  \\end{align}\n",
    "Karena $F$ fungsi ynag monoton naik, maka $a\\leq b$ jika dan hanya jika $F(a)\\leq F(b)$. Dengan demikian\n",
    "\\begin{align}\n",
    "F_X(x) &= P\\{ U\\leq F(x) \\} \\cr\n",
    "    &= F(x)\n",
    "\\end{align}\n",
    "\n",
    "Cara seperti ini disebut Metode Invers untuk membangun data variabel random dengan distribusi tertentu."
   ]
  },
  {
   "cell_type": "markdown",
   "metadata": {},
   "source": [
    "Untuk variabel random dengan distribusi yang mudah dicari inversnya, tidak menjadi masalah. Sebagai contoh\n",
    "1. Misalkan variabel random $X$ dengan distribusi\n",
    "$$\n",
    "F(x)=x^n\\qquad 0\\leq x \\leq 1\n",
    "$$\n",
    "dengan $n$ bilangan rasional, bahkan bilangan real"
   ]
  },
  {
   "cell_type": "code",
   "execution_count": null,
   "metadata": {},
   "outputs": [],
   "source": [
    "import numpy as np\n",
    "import matplotlib.pyplot as plt\n",
    "n=2\n",
    "x=np.linspace(0,1, num=30)\n",
    "plt.plot(x,x*x)"
   ]
  },
  {
   "cell_type": "code",
   "execution_count": null,
   "metadata": {},
   "outputs": [],
   "source": [
    "import math\n",
    "\n",
    "n_sim=10000000\n",
    "u = list(np.random.rand(n_sim))\n",
    "x=[math.sqrt(i) for i in u]\n",
    "plt.hist(x,density=True)"
   ]
  },
  {
   "cell_type": "code",
   "execution_count": null,
   "metadata": {},
   "outputs": [],
   "source": [
    "plt.hist(x,bins=100,density=True)"
   ]
  },
  {
   "cell_type": "markdown",
   "metadata": {},
   "source": [
    "## Contoh Lain\n",
    "Misalkan $X$ mempunyai fungsi distribusi kumulatf $F(x)=1-e^{-x}$. Untuk membangkitkan data untuk variabel random dengan distribusi tersebut, kita harus mencari invers $u=1-e^{-x}$, $e^{-x}=1-u$, $x=-\\ln (1-u)$, $x=-\\ln (u)$"
   ]
  },
  {
   "cell_type": "code",
   "execution_count": null,
   "metadata": {},
   "outputs": [],
   "source": [
    "x=np.linspace(0,5, num=300)\n",
    "y=[1-math.exp(-t) for t in x]\n",
    "yt=[math.exp(-t) for t in x]"
   ]
  },
  {
   "cell_type": "code",
   "execution_count": null,
   "metadata": {},
   "outputs": [],
   "source": [
    "plt.subplot(1,2,1)\n",
    "plt.plot(x,y)\n",
    "\n",
    "plt.subplot(1,2,2)\n",
    "plt.plot(x,yt)\n",
    "\n",
    "plt.show()"
   ]
  },
  {
   "cell_type": "code",
   "execution_count": null,
   "metadata": {},
   "outputs": [],
   "source": [
    "Nsim=10**4\n",
    "u = list(np.random.rand(Nsim))\n",
    "x=[-math.log(1-t) for t in u]\n",
    "plt.hist(x,density=True,bins=10)"
   ]
  },
  {
   "cell_type": "markdown",
   "metadata": {},
   "source": [
    "Untuk varibel random normal, cara di atas tidak dapat dilakukan karena kita tidak mungkin untuk mencari invers dari fungsi distribusi kumulatif $F$ dari distribusi normal. Tetapi kita dapat mencari invers dari fungsi kepadatan peluang dengan bentuk berikut (disebut distribusi Rayleigh)\n",
    "$$\n",
    "f(x)=\n",
    "\\left \\{\n",
    "\\begin{array}{ll} \n",
    "0  & \\mbox{jika } x\\leq 0 \\\\\n",
    "x e^{-\\frac{1}{2} x^2} & \\mbox{jika } x\\geq 0 \\\\\n",
    "\\end{array} \n",
    "\\right .\n",
    "$$\n",
    "\n",
    "Kemudian, fungsi distribusi kumulatifnya adalah\n",
    "$$\n",
    "F(x) = \\int_0^x t e^{-\\frac{1}{2} t^2} dt=1-e^{-\\frac{1}{2} x^2}\n",
    "$$\n",
    "Jika $F(x)=u$, maka \n",
    "$$\n",
    "x=\\sqrt{-2 \\ln(1-u)}\n",
    "$$\n"
   ]
  },
  {
   "cell_type": "code",
   "execution_count": null,
   "metadata": {},
   "outputs": [],
   "source": [
    "x=np.linspace(0,5, num=300)\n",
    "y=[1-math.exp(-t*t/2) for t in x]\n",
    "yt=[t*math.exp(-t*t/2) for t in x]"
   ]
  },
  {
   "cell_type": "code",
   "execution_count": null,
   "metadata": {},
   "outputs": [],
   "source": [
    "plt.subplot(1,2,1)\n",
    "plt.plot(x,y)\n",
    "\n",
    "plt.subplot(1,2,2)\n",
    "plt.plot(x,yt)\n",
    "\n",
    "plt.show()\n"
   ]
  },
  {
   "cell_type": "code",
   "execution_count": null,
   "metadata": {},
   "outputs": [],
   "source": [
    "n_sim=10000000\n",
    "u = list(np.random.rand(n_sim))\n",
    "x=[math.sqrt(-2*i*math.log(1-i)) for i in u]"
   ]
  },
  {
   "cell_type": "code",
   "execution_count": null,
   "metadata": {},
   "outputs": [],
   "source": [
    "plt.hist(x,density=True,bins=10)"
   ]
  },
  {
   "cell_type": "markdown",
   "metadata": {},
   "source": [
    "Sekarang kita akan membangun distribusi normal dengan memanfaatkan distribusi Rayleigh dan metode Terima-Tolak. "
   ]
  },
  {
   "cell_type": "markdown",
   "metadata": {},
   "source": [
    "Misalkan kita akan membangun fungsi kepadatan peluang $f$, kemudian kita menggunakan fungsi kepadatan peluang $g$ yang lebih sederhana dimana data dari distribusinya mudah dibangun. \n",
    "Kedua fungsi kepadatan peluang tersebut harus memenuhi\n",
    "1. $f$ dan $g$ mempunyai support yang sama, dan saat $f(x)>0$ maka $g(x)>0$.\n",
    "2. Ada konstanta $c$ sehingga $f(x)/g(x)\\leq c$ untuk semua $x$.\n",
    "\n",
    "Kemudian, untuk membangun data variabel random $X$ dengan fungsi kepadatan peluang $f$, pertama kita membangun data untuk variabel random $Y$ dengan fungsi kepadatan peluang $g$. Selanjutnya, secara independent (bebas) kita membangun data variabel random terdistribusi uniform $U$ di $[0,1]$.  Selanjutnya, jika\n",
    "$$\n",
    "U\\leq \\frac{1}{c} f(Y)/g(Y)\n",
    "$$\n",
    "maka data dari $Y$ diambil sebagian data untuk $X$.\n",
    "Jadi algoritmanya sebagai berikut \n",
    "1. Bangun variabel random $Y \\sim g$ dan $U\\sim U(0,1)$.\n",
    "2. Terima $x=y$ jika $u \\leq \\frac{1}{c} f(y)/g(y)$\n",
    "3. Dalam hal lain kembali ke (1)\n",
    "\n",
    "Kita akan membuktikan bahwa \n",
    "$$\n",
    "P(Y\\leq x | U \\leq \\frac{1}{c} f(Y)/g(Y)) =P(X\\leq x)\n",
    "$$\n",
    "Untuk itu, kita akan menggunakan $P(A|B) =\\frac{P(A\\cap B)}{P(B)}$, dalam hal ini\n",
    "\\begin{align}\n",
    "P(Y\\leq x | U \\leq \\frac{1}{c} f(Y)/g(Y)) &= \n",
    "\\frac{P(Y\\leq x, U\\leq \\frac{1}{c} f(Y)/g(Y))}\n",
    "{P(U\\leq \\frac{1}{c} f(Y)/g(Y))}\\\\\n",
    "&= \\frac{ \\int_{-\\infty}^x \\int_0^{\\frac{1}{c} f(y)/g(y)} du g(y) dy}\n",
    "{\\int_{-\\infty}^{\\infty} \\int_0^{\\frac{1}{c} f(y)/g(y)} du  g(y) dy} \\\\\n",
    "&=\\frac{ \\int_{-\\infty}^x \\frac{1}{c} [f(y)/g(y)] g(y) dy}\n",
    "{\\int_{-\\infty}^{\\infty} \\int_0^{\\frac{1}{c} f(Y)/g(Y)} du  g(y) dy}\\\\\n",
    "&= \\frac{\\int_{-\\infty}^x f(y) dy}{\\int_{-\\infty}^\\infty f(y) dy}=P(X\\leq x)\n",
    "\\end{align}\n",
    "\n"
   ]
  },
  {
   "cell_type": "markdown",
   "metadata": {},
   "source": [
    "Sekarang kita akan dapat membangun data variabel random $X$ dengan fungsi kepadatan peluang dari distribusi normal, yaitu \n",
    "$$\n",
    "f(x)=\\frac{2}{\\sqrt{\\pi}} e^{-\\frac{1}{2} x^2} \\qquad 0<x<\\infty\n",
    "$$\n",
    "dan fungsi kepadatan peluang dari distribusi \n",
    "$$\n",
    "g(x)=e^{-x}\\qquad 0,x<\\infty\n",
    "$$\n",
    "Untuk itu kita mencari nilai maksimum \n",
    "$$\n",
    "\\frac{f(x)}{g(x)} \n",
    "$$\n",
    "atau mencari $c$ sehingga $\n",
    "\\frac{f(x)}{g(x)} \\leq c\n",
    "$. \n",
    "\n",
    "Dalam hal ini\n",
    "$$\n",
    "\\frac{f(x)}{g(x)} =\\sqrt{2/\\pi} e^{x-x^2/2}\n",
    "$$\n",
    "Nilai maksimum dari hasil bagi tersebut cukup dicari dari maksimum\n",
    "$$\n",
    "x-x^2/2=-\\left ( \\frac{(x-1)^2}{2} \\right)\n",
    "$$\n",
    "yang terjadi saat $x=1$. Oleh karena itu maka\n",
    "$$\n",
    "c=\\max \n",
    "\\frac{f(x)}{g(x)} =\n",
    "\\frac{f(1)}{g(1)}= \\sqrt{2e/\\pi} \n",
    "$$\n"
   ]
  },
  {
   "cell_type": "markdown",
   "metadata": {},
   "source": [
    "Kita akan membangun data untuk variabel random dengan fungsi kepadatan distribusi \n",
    "$$g(x)=e^{-x}\n",
    "$$\n",
    "Dalam hal ini fungsi distribusi kumulatifnya adalah\n",
    "$$\n",
    "G(x)=\\int_0^x e^{-t}dt =1-e^{-x}\n",
    "$$\n",
    "Sehingga jika $G(x)=u$, maka \n",
    "$$\n",
    "x=-\\ln (1-u)\n",
    "$$\n"
   ]
  },
  {
   "cell_type": "code",
   "execution_count": null,
   "metadata": {},
   "outputs": [],
   "source": [
    "import numpy as np\n",
    "import matplotlib.pyplot as plt\n",
    "import math\n",
    "n_sim=10000000\n",
    "u = list(np.random.rand(n_sim))\n",
    "y=[-math.log(i) for i in u]"
   ]
  },
  {
   "cell_type": "code",
   "execution_count": null,
   "metadata": {},
   "outputs": [],
   "source": [
    "plt.hist(y,density=True)"
   ]
  },
  {
   "cell_type": "markdown",
   "metadata": {},
   "source": [
    "Sekarang, kita akan membangun variabel random uniform $U$, jika \n",
    "$$\n",
    "u\\leq \\frac{f(y)}{cg(y)}=\\exp{\\left (- \\frac{(y-1)^2}{2}\\right ) }\n",
    "$$\n",
    "maka kita menerima bahwa $x=y$, dalam hal lain kita lewatkan."
   ]
  },
  {
   "cell_type": "code",
   "execution_count": null,
   "metadata": {},
   "outputs": [],
   "source": [
    "u2 = list(np.random.rand(n_sim))\n",
    "for i in range(len(u2)):\n",
    "    if u2[i]<math.exp(-(y[i]-1)**2/2):\n",
    "        x.append(y[i])\n",
    "x=x+[-i for i in x]"
   ]
  },
  {
   "cell_type": "code",
   "execution_count": null,
   "metadata": {},
   "outputs": [],
   "source": [
    "plt.hist(x,density=True)"
   ]
  }
 ],
 "metadata": {
  "kernelspec": {
   "display_name": "Python 3",
   "language": "python",
   "name": "python3"
  },
  "language_info": {
   "codemirror_mode": {
    "name": "ipython",
    "version": 3
   },
   "file_extension": ".py",
   "mimetype": "text/x-python",
   "name": "python",
   "nbconvert_exporter": "python",
   "pygments_lexer": "ipython3",
   "version": "3.8.5"
  }
 },
 "nbformat": 4,
 "nbformat_minor": 4
}
