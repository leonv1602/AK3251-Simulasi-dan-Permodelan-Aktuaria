{
 "cells": [
  {
   "cell_type": "markdown",
   "metadata": {},
   "source": []
  },
  {
   "cell_type": "markdown",
   "metadata": {},
   "source": [
    "# Transformasi Variabel Random"
   ]
  },
  {
   "cell_type": "markdown",
   "metadata": {},
   "source": [
    "Misalkan $X$ variabel random dengan kepadatan peluang $f_X(x)$. Sekarang misalkan kita mempunyai variabel random yang diperoleh dari transformasi $y=g(X)$. Kita ingin mencari fungsi kepadatan peluang $f_Y(y)$ dinyatakan dalam $f_X(x)$ dan $g(X)$. \n",
    "\n",
    "Untuk itu, kita memperhatikan kejadian\n",
    "$$\n",
    "A=\\{ y<Y\\leq y+dy \\}\n",
    "$$\n",
    "Jika $Y$ variabel random kontinu, maka kita mengetahui bahwa\n",
    "$$\n",
    "P(A)=f_Y(y) dy\n",
    "$$\n",
    "Selanjutnya, misalkan $B=g^{-1}(A)$, maka \n",
    "$$\n",
    "B=\\{ x_1 < X\\leq x_1+|dx_1| \\}  \\cup  \\{ x_2 < X\\leq x_2+|dx_2| \\} \\cup \\ldots \\{ x_n < X\\leq x_n+|dx_n| \\}\n",
    "$$\n",
    "Dengan demikian, kita mempunyai\n",
    "$$\n",
    "P(B)=\\sum_{k=1}^n f_X(x_k) |dx_k|\n",
    "$$\n",
    "karena $A$ dan $B$ harus mempunyai peluang yang sama, $P(A)=P(B)$, maka\n",
    "$$\n",
    "f_Y(y)dy=\\sum_{k=1}^n f_X(x_k) |dx_k|\n",
    "$$\n",
    "yang mengakibatkan\n",
    "\n",
    "\\begin{array}{rcl}\n",
    "f_Y(y) & = & \\sum_{k=1}^n f_X(x_k)  \\left | \\frac{dx_k}{dy} \\right |\\\\\n",
    " & =  & \\sum_{k=1}^n f_X(x_k)  \\frac{1}{\\frac{dy}{dx_k}}\n",
    "\\end{array}\n",
    "dengan $\\{x_k\\}$ adalah jawab dari persamaan $g(x)=y$"
   ]
  },
  {
   "cell_type": "markdown",
   "metadata": {},
   "source": [
    "## Contoh\n",
    "Misalkan $X$ merupakan variabel random dengan fungsi kepadatan peluang $f_X(x)$ dn fungsi kepadatan kumulatif adalah $F_X(x)$. Kita mengetahui bahwa \n",
    "$$\n",
    "f_X(x)=\\frac{d}{dx}F_X(x)\n",
    "$$\n",
    "Sekarang definisikan variabel random $Y$ yang didefinisikan sebagai transformasi $y=F_X9x)$. Dengan menggunakan transformasi ini, nilai dari variabel $Y$ hanya pada interval $[0,1]$. Sedangkan fkp nya adalah\n",
    "$$\n",
    "f_Y(y)=\\frac{f_X(x)}{\\left |\\frac{dy}{dx}\\right|}\n",
    "$$\n",
    "Karena \n",
    "$$\n",
    "\\frac{dy}{dx} = \\frac{dF_X(x)}{dx}=f_X(x)\n",
    "$$\n",
    "Oleh karena itu\n",
    "$$\n",
    "f_Y(y)=\\left\\{\n",
    "\\begin{array}\n",
    "[c]{ll}%\n",
    "1 & 0\\leq y\\leq 1\\\\\n",
    "0 & \\mbox{lainnya}\n",
    "\\end{array}\n",
    "\\right.\n",
    "$$\n",
    "\n",
    " \n",
    "\\begin{align}\n",
    "(x+y)^3&=(x+y)(x+y)^2\\\\\n",
    "       &=(x+y)(x^2+2xy+y^2)\\\\\n",
    "       &=x^3+3x^2y+3xy^3+x^3.\\qedhere\n",
    "\\end{align}"
   ]
  },
  {
   "cell_type": "markdown",
   "metadata": {},
   "source": [
    "## Contoh sebaliknya\n",
    "Misalkan $X$ variabel random dengan distribusi uniform di $[0,1]$. Kita ingin mencari transformasi $Y=g(X)$ atau\n",
    "$$\n",
    "x=g^{-1}(y)\n",
    "$$\n",
    "sehingga variabel random $Y$ mempunyai fkp $f_Y(y)$. Berdasarkan contoh di atas, maka kita perlu memepelajari pemetaan $y=F_Y^{-1}(x)$ yang merupakan invers dari $F_Y(y)$ yaitu  fungsi distribusi kumulatif $Y$. \n",
    "\n",
    "Fungsi kp dari $Y$ adalah\n",
    "$$\n",
    "f_Y(y)=\\frac{f_X(x)}{\\left | \\frac{dy}{dx} \\right |}\n",
    "$$\n",
    "Jadi\n",
    "$$\n",
    "y=F^{-1}(x) \\Rightarrow \\frac{dy}{dx}=\\frac{dF_Y^{-1}(x)}{dx}\n",
    "$$"
   ]
  },
  {
   "cell_type": "code",
   "execution_count": null,
   "metadata": {},
   "outputs": [],
   "source": []
  }
 ],
 "metadata": {
  "kernelspec": {
   "display_name": "Python 3",
   "language": "python",
   "name": "python3"
  },
  "language_info": {
   "codemirror_mode": {
    "name": "ipython",
    "version": 3
   },
   "file_extension": ".py",
   "mimetype": "text/x-python",
   "name": "python",
   "nbconvert_exporter": "python",
   "pygments_lexer": "ipython3",
   "version": "3.8.5"
  }
 },
 "nbformat": 4,
 "nbformat_minor": 2
}
