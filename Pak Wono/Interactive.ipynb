{
 "cells": [
  {
   "cell_type": "code",
   "execution_count": 25,
   "metadata": {},
   "outputs": [
    {
     "data": {
      "text/html": [
       "\n",
       "        <iframe\n",
       "            width=\"100%\"\n",
       "            height=\"650\"\n",
       "            src=\"http://127.0.0.1:8050/\"\n",
       "            frameborder=\"0\"\n",
       "            allowfullscreen\n",
       "        ></iframe>\n",
       "        "
      ],
      "text/plain": [
       "<IPython.lib.display.IFrame at 0x14ca27c95b0>"
      ]
     },
     "metadata": {},
     "output_type": "display_data"
    }
   ],
   "source": [
    "import dash\n",
    "import dash_core_components as dcc\n",
    "import dash_html_components as html\n",
    "from dash.dependencies import Input, Output\n",
    "import plotly.express as px\n",
    "import numpy as np\n",
    "from jupyter_dash import JupyterDash\n",
    "import dash_bootstrap_components as dbc \n",
    "\n",
    "\n",
    "app = JupyterDash(external_stylesheets = [dbc.themes.BOOTSTRAP])\n",
    "\n",
    "app.layout = html.Div([\n",
    "    dcc.Graph(id=\"graph\"),\n",
    "    html.P(\"Mean:\"),\n",
    "    dcc.Slider(id=\"mean\", min=-3, max=3, value=0, \n",
    "               marks={-3: '-3', 3: '3'}),\n",
    "    html.P(\"Standard Deviation:\"),\n",
    "    dcc.Slider(id=\"std\", min=1, max=3, value=1, \n",
    "               marks={1: '1', 3: '3'}),\n",
    "])\n",
    "\n",
    "@app.callback(\n",
    "    Output(\"graph\", \"figure\"), \n",
    "    [Input(\"mean\", \"value\"), \n",
    "     Input(\"std\", \"value\")])\n",
    "def display_color(mean, std):\n",
    "    data = np.random.normal(mean, std, size=500)\n",
    "    fig = px.histogram(data, nbins=30, range_x=[-10, 10])\n",
    "    return fig\n",
    "\n",
    "app.run_server(mode=\"inline\")"
   ]
  },
  {
   "cell_type": "code",
   "execution_count": 31,
   "metadata": {},
   "outputs": [
    {
     "data": {
      "text/html": [
       "\n",
       "        <iframe\n",
       "            width=\"100%\"\n",
       "            height=\"650\"\n",
       "            src=\"http://127.0.0.1:8050/\"\n",
       "            frameborder=\"0\"\n",
       "            allowfullscreen\n",
       "        ></iframe>\n",
       "        "
      ],
      "text/plain": [
       "<IPython.lib.display.IFrame at 0x14ca26f7130>"
      ]
     },
     "metadata": {},
     "output_type": "display_data"
    }
   ],
   "source": [
    "app = JupyterDash(external_stylesheets = [dbc.themes.BOOTSTRAP])\n",
    "\n",
    "app.layout = html.Div([\n",
    "    dcc.Graph(id=\"graph\"),\n",
    "    html.P(\"n:\"),\n",
    "    dcc.Slider(id=\"n\", min=0, max=3000, value=20, \n",
    "               marks={-3: '-3', 3: '3'}),\n",
    "])\n",
    "\n",
    "@app.callback(\n",
    "    Output(\"graph\", \"figure\"), \n",
    "    [Input(\"n\", \"value\")])\n",
    "def display_color(n):\n",
    "    data = np.random.rand(n)\n",
    "    fig = px.histogram(data)\n",
    "    return fig\n",
    "\n",
    "app.run_server(mode=\"inline\")"
   ]
  },
  {
   "cell_type": "code",
   "execution_count": 2,
   "metadata": {},
   "outputs": [
    {
     "name": "stdout",
     "output_type": "stream",
     "text": [
      "Collecting dash-bootstrap-components\n",
      "  Downloading dash_bootstrap_components-0.11.1-py2.py3-none-any.whl (187 kB)\n",
      "Requirement already satisfied: dash>=1.9.0 in c:\\users\\leona\\anaconda3\\lib\\site-packages (from dash-bootstrap-components) (1.19.0)\n",
      "Requirement already satisfied: future in c:\\users\\leona\\anaconda3\\lib\\site-packages (from dash>=1.9.0->dash-bootstrap-components) (0.18.2)\n",
      "Requirement already satisfied: dash-html-components==1.1.2 in c:\\users\\leona\\anaconda3\\lib\\site-packages (from dash>=1.9.0->dash-bootstrap-components) (1.1.2)\n",
      "Requirement already satisfied: dash-renderer==1.9.0 in c:\\users\\leona\\anaconda3\\lib\\site-packages (from dash>=1.9.0->dash-bootstrap-components) (1.9.0)\n",
      "Requirement already satisfied: dash-core-components==1.15.0 in c:\\users\\leona\\anaconda3\\lib\\site-packages (from dash>=1.9.0->dash-bootstrap-components) (1.15.0)\n",
      "Requirement already satisfied: flask-compress in c:\\users\\leona\\anaconda3\\lib\\site-packages (from dash>=1.9.0->dash-bootstrap-components) (1.8.0)\n",
      "Requirement already satisfied: plotly in c:\\users\\leona\\anaconda3\\lib\\site-packages (from dash>=1.9.0->dash-bootstrap-components) (4.11.0)\n",
      "Requirement already satisfied: Flask>=1.0.4 in c:\\users\\leona\\anaconda3\\lib\\site-packages (from dash>=1.9.0->dash-bootstrap-components) (1.1.2)\n",
      "Requirement already satisfied: dash-table==4.11.2 in c:\\users\\leona\\anaconda3\\lib\\site-packages (from dash>=1.9.0->dash-bootstrap-components) (4.11.2)\n",
      "Requirement already satisfied: click>=5.1 in c:\\users\\leona\\anaconda3\\lib\\site-packages (from Flask>=1.0.4->dash>=1.9.0->dash-bootstrap-components) (7.1.2)\n",
      "Requirement already satisfied: Werkzeug>=0.15 in c:\\users\\leona\\anaconda3\\lib\\site-packages (from Flask>=1.0.4->dash>=1.9.0->dash-bootstrap-components) (1.0.1)\n",
      "Requirement already satisfied: Jinja2>=2.10.1 in c:\\users\\leona\\anaconda3\\lib\\site-packages (from Flask>=1.0.4->dash>=1.9.0->dash-bootstrap-components) (2.11.2)\n",
      "Requirement already satisfied: itsdangerous>=0.24 in c:\\users\\leona\\anaconda3\\lib\\site-packages (from Flask>=1.0.4->dash>=1.9.0->dash-bootstrap-components) (1.1.0)\n",
      "Requirement already satisfied: MarkupSafe>=0.23 in c:\\users\\leona\\anaconda3\\lib\\site-packages (from Jinja2>=2.10.1->Flask>=1.0.4->dash>=1.9.0->dash-bootstrap-components) (1.1.1)\n",
      "Requirement already satisfied: brotli in c:\\users\\leona\\anaconda3\\lib\\site-packages (from flask-compress->dash>=1.9.0->dash-bootstrap-components) (1.0.9)\n",
      "Requirement already satisfied: retrying>=1.3.3 in c:\\users\\leona\\anaconda3\\lib\\site-packages (from plotly->dash>=1.9.0->dash-bootstrap-components) (1.3.3)\n",
      "Requirement already satisfied: six in c:\\users\\leona\\anaconda3\\lib\\site-packages (from plotly->dash>=1.9.0->dash-bootstrap-components) (1.15.0)\n",
      "Installing collected packages: dash-bootstrap-components\n",
      "Successfully installed dash-bootstrap-components-0.11.1\n",
      "Note: you may need to restart the kernel to use updated packages.\n"
     ]
    }
   ],
   "source": []
  }
 ],
 "metadata": {
  "kernelspec": {
   "display_name": "Python 3",
   "language": "python",
   "name": "python3"
  },
  "language_info": {
   "codemirror_mode": {
    "name": "ipython",
    "version": 3
   },
   "file_extension": ".py",
   "mimetype": "text/x-python",
   "name": "python",
   "nbconvert_exporter": "python",
   "pygments_lexer": "ipython3",
   "version": "3.8.5"
  }
 },
 "nbformat": 4,
 "nbformat_minor": 4
}
