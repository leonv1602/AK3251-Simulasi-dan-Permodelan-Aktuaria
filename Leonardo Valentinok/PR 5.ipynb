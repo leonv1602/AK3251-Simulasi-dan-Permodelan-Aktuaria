{
 "cells": [
  {
   "cell_type": "markdown",
   "id": "inside-account",
   "metadata": {},
   "source": [
    "# Soal Nomor 10"
   ]
  },
  {
   "cell_type": "markdown",
   "id": "informative-conservation",
   "metadata": {},
   "source": [
    "A casualty insurance company has 1000 policyholders, each of whom will independently present a claim in the next month with probability .05. Assuming that the amounts of the claims made are independent exponential random variables with mean \\\\$ 800, use simulation to estimate the probability that the sum of these claims exceeds \\\\$ 50,000."
   ]
  },
  {
   "cell_type": "markdown",
   "id": "quarterly-philippines",
   "metadata": {},
   "source": [
    "# Jawab"
   ]
  },
  {
   "cell_type": "markdown",
   "id": "synthetic-collect",
   "metadata": {},
   "source": [
    "Akan didefinisikan variabel yang akan digunakan sebagai berikut.  \n",
    "1. $N$ : banyaknya pemegang polis.  \n",
    "2. $p$ : peluang seseorang mengajukan klaim atau tidak pada bulan depan  \n",
    "3. $X_i$ : Besarnya klaim pemegang polis ke-$i$.  \n",
    "  \n",
    "Perhatikan bahwa $X\\sim \\text{Eksponensial}(\\frac{1}{800})$ definisikan pdf dari $X$ adalah\n",
    "\\begin{align}\n",
    "f_X(x) = \\frac{1}{800}e^{-\\frac{1}{800}x}\n",
    "\\end{align} \n",
    "Diperoleh juga CDF nya adalah :\n",
    "\\begin{align}\n",
    "F_X(x) = 1-e^{-\\frac{1}{800}x}\n",
    "\\end{align} \n",
    "Dan invers dari CDFnya adalah:  \n",
    "\\begin{align}\n",
    "F_U^{-1}(u) = -\\frac{\\ln{(1-u)}}{800}\n",
    "\\end{align} \n",
    "Perhatikan bahwa $X_i \\sim \\text{Eksponensial}(800)$ = $X_i \\sim \\Gamma(1,\\frac{1}{800})$. Perhatikan bahwa klaim ini saling bebas sehingga dapat diperoleh $\\sum_{i=1}^n X_i \\sim \\Gamma(n,\\frac{1}{800})$  \n",
    "Lebih lanjut lagi diketahui bahwa Peluang banyaknya orang yang akan mengajukan klaim mengikuti distribusi Binomial \n",
    "$$\n",
    "P(N=n) = \\binom{1000}{n} 0.05^n0.95^{1000-n}\n",
    "$$\n",
    "Perhatikan bahwa distribusi diatas bisa dihampiri dengan distribusi Normal dengan $\\mu = N\\times p = 1000\\times 0.05 = 50$ dan $\\sigma^2 = N\\times p\\times(1-p) =1000 \\times 0.05 \\times 0.95 = 47.5$  \n",
    "Sehingga \n",
    "$$\n",
    "f_N(n) = \\int_{-\\infty}^{\\infty} \\frac{1}{\\sqrt{2\\pi  47.5}}e^{-\\frac{1}{2}\\frac{(n-50)^2}{47.5}} dn\n",
    "$$\n"
   ]
  },
  {
   "cell_type": "markdown",
   "id": "absolute-longer",
   "metadata": {},
   "source": [
    "# Solusi \n",
    "Akan ditentukan besar peluang $P(X_{\\text{Total}} \\geq 50000)$. Perhatikan bahwa \n",
    "$$\n",
    "P(X_{\\text{Total}} \\geq 50000) = P\\left(\\sum_{i=1}^n X_i \\geq 50000|N=n\\right)P(N=n)\n",
    "$$"
   ]
  },
  {
   "cell_type": "code",
   "execution_count": 219,
   "id": "vertical-midwest",
   "metadata": {},
   "outputs": [
    {
     "data": {
      "text/plain": [
       "0.0"
      ]
     },
     "execution_count": 219,
     "metadata": {},
     "output_type": "execute_result"
    }
   ],
   "source": [
    "(7.1877e-28)**50"
   ]
  },
  {
   "cell_type": "code",
   "execution_count": 104,
   "id": "subtle-installation",
   "metadata": {},
   "outputs": [],
   "source": [
    "import numpy as np\n",
    "import random\n",
    "import matplotlib.pyplot as plt\n",
    "from datetime import datetime\n",
    "from scipy.stats import expon,binom\n",
    "%matplotlib inline\n",
    "np.set_printoptions(precision = 3, suppress = True, formatter = {'float':'{:5.4f}'.format})"
   ]
  },
  {
   "cell_type": "code",
   "execution_count": 220,
   "id": "knowing-arlington",
   "metadata": {},
   "outputs": [],
   "source": [
    "def hard_prob(n = 1000):\n",
    "    i = 0\n",
    "    count = 0\n",
    "    for j in range(n):\n",
    "        if np.random.rand() <= 0.05:\n",
    "            i += 1\n",
    "            if expon.rvs(loc=0, scale=1/800, size=1, random_state=None)<=0.1:\n",
    "                count += 1\n",
    "    return i/n,count/n"
   ]
  },
  {
   "cell_type": "code",
   "execution_count": 221,
   "id": "loved-monday",
   "metadata": {},
   "outputs": [
    {
     "data": {
      "text/plain": [
       "(0.04, 0.04)"
      ]
     },
     "execution_count": 221,
     "metadata": {},
     "output_type": "execute_result"
    }
   ],
   "source": [
    "hard_prob()"
   ]
  },
  {
   "cell_type": "code",
   "execution_count": null,
   "id": "designing-release",
   "metadata": {},
   "outputs": [],
   "source": [
    "def prob(n=1000):\n",
    "    ekspektasi_terjadi = 50\n",
    "    ekspektasi_severity = 800\n",
    "    if binom.rvs(n, p=0.05, loc=0, size=1, random_state=None)<=0.05"
   ]
  }
 ],
 "metadata": {
  "kernelspec": {
   "display_name": "Python 3",
   "language": "python",
   "name": "python3"
  },
  "language_info": {
   "codemirror_mode": {
    "name": "ipython",
    "version": 3
   },
   "file_extension": ".py",
   "mimetype": "text/x-python",
   "name": "python",
   "nbconvert_exporter": "python",
   "pygments_lexer": "ipython3",
   "version": "3.8.5"
  }
 },
 "nbformat": 4,
 "nbformat_minor": 5
}
